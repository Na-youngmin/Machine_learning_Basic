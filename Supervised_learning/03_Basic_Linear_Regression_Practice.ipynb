{
  "cells": [
    {
      "cell_type": "markdown",
      "metadata": {
        "id": "3DHBfcV_JvSS"
      },
      "source": [
        "# 03 - Linear Regression\n",
        "\n",
        "\n"
      ]
    },
    {
      "cell_type": "markdown",
      "metadata": {
        "id": "Yc-qsjvhJvSU"
      },
      "source": [
        "친숙하게 알고 있는 Sin 그래프를 이용해서 <br>\n",
        "Linear Regression 을 Scikit Learn Library 를 이용해 수행해보자"
      ]
    },
    {
      "cell_type": "markdown",
      "metadata": {
        "id": "pcYqGUBSJvSV"
      },
      "source": [
        "### Import Library"
      ]
    },
    {
      "cell_type": "code",
      "execution_count": null,
      "metadata": {
        "id": "19IS2RRqJvSV"
      },
      "outputs": [],
      "source": [
        "#numpy 불러오기\n",
        "#matplotlib 에서 pyplot 불러오기\n",
        "\n",
        "import numpy as np\n",
        "from matplotlib import pyplot as plt"
      ]
    },
    {
      "cell_type": "markdown",
      "metadata": {
        "id": "O0onjCqzJvSW"
      },
      "source": [
        "### Prepare simple dataset"
      ]
    },
    {
      "cell_type": "code",
      "execution_count": null,
      "metadata": {
        "colab": {
          "base_uri": "https://localhost:8080/"
        },
        "id": "JNzWaxrIJvSW",
        "outputId": "79449e3f-a205-46a4-b013-05c5a400391e"
      },
      "outputs": [
        {
          "output_type": "stream",
          "name": "stdout",
          "text": [
            "3.141592653589793\n"
          ]
        }
      ],
      "source": [
        "#pi 불러오기\n",
        "print(np.pi)"
      ]
    },
    {
      "cell_type": "code",
      "execution_count": null,
      "metadata": {
        "colab": {
          "base_uri": "https://localhost:8080/"
        },
        "id": "Y5AEb_LqJvSX",
        "outputId": "3a72831c-c78b-467d-d16c-e5fe04d14c0d"
      },
      "outputs": [
        {
          "output_type": "stream",
          "name": "stdout",
          "text": [
            "[[0.        ]\n",
            " [0.06346652]\n",
            " [0.12693304]\n",
            " [0.19039955]\n",
            " [0.25386607]]\n"
          ]
        }
      ],
      "source": [
        "# true data\n",
        "N = 100\n",
        "\n",
        "# linspace = 선형 구간 혹은 로그 구간을 지정한 구간의 수만큼 분할한다.\n",
        "# 시작, 끝(포함), 갯수\n",
        "# reshape = 기존 데이터는 유지하고 차원과 형상을 바꿈.\n",
        "# ex) 3개의 행과 4개의 열로 구성된 배열로 재설정하고 싶으면 reshape(3, 4)\n",
        "# reshape(N,1) = N개 행, 1개 열\n",
        "\n",
        "# x 값은 0/~2*pi 이고 100만큼 분할\n",
        "# y 값은 -1~1 사이의 값\n",
        "X = np.linspace(0,2*np.pi,N).reshape(-1,1)\n",
        "print(X[:5])"
      ]
    },
    {
      "cell_type": "code",
      "execution_count": null,
      "metadata": {
        "scrolled": true,
        "colab": {
          "base_uri": "https://localhost:8080/",
          "height": 265
        },
        "id": "J8CIftNOJvSX",
        "outputId": "e98c679a-2d19-40d7-b6c2-f6f1ba3c46dc"
      },
      "outputs": [
        {
          "output_type": "display_data",
          "data": {
            "text/plain": [
              "<Figure size 432x288 with 1 Axes>"
            ],
            "image/png": "[encoded data removed]"
          },
          "metadata": {
            "needs_background": "light"
          }
        }
      ],
      "source": [
        "# plot 그리기\n",
        "\n",
        "# y는 X의 sin \n",
        "y = np.sin(X)\n",
        "#plt.plot(X,y)\n",
        "# X,y를 산점도로 그리기\n",
        "plt.scatter(X,y)\n",
        "plt.show()\n"
      ]
    },
    {
      "cell_type": "markdown",
      "metadata": {
        "id": "kNeVtYJ0JvSX"
      },
      "source": [
        "#### Noise 만들어주기\n",
        "- rand (0과 1사이의 난수를 발생시키는) 명령어를 사용"
      ]
    },
    {
      "cell_type": "code",
      "execution_count": null,
      "metadata": {
        "colab": {
          "base_uri": "https://localhost:8080/",
          "height": 281
        },
        "id": "JlUZcCORJvSY",
        "outputId": "375fe346-cb55-45f1-e414-cdc7229bd515"
      },
      "outputs": [
        {
          "output_type": "display_data",
          "data": {
            "text/plain": [
              "<Figure size 432x288 with 1 Axes>"
            ],
            "image/png": "[encoded data removed]"
          },
          "metadata": {
            "needs_background": "light"
          }
        }
      ],
      "source": [
        "#seed를 1로 고정\n",
        "np.random.seed(1)\n",
        "# y를 0~1사이 임의값에 0.3 곱한값을 100 * 1행렬로 만들고 더해주기\n",
        "y += 0.3*np.random.rand(N,1)\n",
        "# X,y의 산점도 그리기\n",
        "# 제목은 sine wave noise data\n",
        "plt.scatter(X,y)\n",
        "plt.title('sine wave noise data')\n",
        "plt.show()"
      ]
    },
    {
      "cell_type": "code",
      "execution_count": null,
      "metadata": {
        "scrolled": false,
        "id": "k8ukLQFdJvSY",
        "outputId": "3a8a6cc5-5fcb-439e-b5e0-1b143851c8c6",
        "colab": {
          "base_uri": "https://localhost:8080/",
          "height": 281
        }
      },
      "outputs": [
        {
          "output_type": "display_data",
          "data": {
            "text/plain": [
              "<Figure size 432x288 with 1 Axes>"
            ],
            "image/png": "[encoded data removed]"
          },
          "metadata": {
            "needs_background": "light"
          }
        }
      ],
      "source": [
        "# 기존 그래프와 함께 plotting\n",
        "\n",
        "#y값을 X의 sin값으로 설정\n",
        "# X,y의 그래프 그리기\n",
        "y = np.sin(X)\n",
        "plt.plot(X,y)\n",
        "\n",
        "# add noise\n",
        "#seed값을 1로 고정\n",
        "np.random.seed(1)\n",
        "# y를 0~1사이 임의값에 0.3 곱한값을 100 * 1행렬로 만들고 더해주기\n",
        "y += 0.3*np.random.rand(N,1)\n",
        "\n",
        "# X,y의 산점도 그리기\n",
        "# sine wave data 제목 설정\n",
        "plt.scatter(X,y)\n",
        "plt.title('sine wave data')\n",
        "plt.show()"
      ]
    },
    {
      "cell_type": "markdown",
      "metadata": {
        "id": "mWBYVgsFJvSY"
      },
      "source": [
        "#### Shuffle Dataset"
      ]
    },
    {
      "cell_type": "code",
      "execution_count": null,
      "metadata": {
        "colab": {
          "base_uri": "https://localhost:8080/"
        },
        "id": "hUBkYxnyJvSY",
        "outputId": "b6188059-8ae6-4707-d52d-e9d1dc4bac92"
      },
      "outputs": [
        {
          "output_type": "stream",
          "name": "stdout",
          "text": [
            "[19 14 43 37 66  3 79 41 38 68  2  1 60 53 95 74 92 26 59 46 90 70 50 44\n",
            " 76 55 21 61  6 63 42 34 84 52 35 39 45  4  5 48 32 20 83 58 47 80 17 67\n",
            " 81  7 87 97 98 99 24 10 96 86 56 71 23 22 91 94 18 27 88 57 31 65 12 82\n",
            " 30 75 25 13 69 77 85 51 49 78 72 33 62 54 11 16 36 40  0 73  8 29 93 89\n",
            " 28 64 15  9]\n"
          ]
        }
      ],
      "source": [
        "# shuffle data\n",
        "# seed 값을 10으로 고정\n",
        "np.random.seed(10)\n",
        "\n",
        "# N은 40이므로 1~40까지의 수를 섞어준다 (permutation(N))\n",
        "idx = np.random.permutation(N)\n",
        "print(idx)"
      ]
    },
    {
      "cell_type": "code",
      "execution_count": null,
      "metadata": {
        "colab": {
          "base_uri": "https://localhost:8080/"
        },
        "id": "fFVgGVBdJvSZ",
        "outputId": "2c06431d-f705-430a-d93f-3eb97cd0b3cd"
      },
      "outputs": [
        {
          "output_type": "stream",
          "name": "stdout",
          "text": [
            "[[1.20586385]\n",
            " [0.88853126]\n",
            " [2.72906028]]\n",
            "[[0.99357831]\n",
            " [0.78436274]\n",
            " [0.63771433]]\n"
          ]
        }
      ],
      "source": [
        "#인덱스 값을 shuffle_X,y에 저장\n",
        "shuffle_X = X[idx]\n",
        "shuffle_y = y[idx]\n",
        "\n",
        "# shuffle_X,y를 3열까지만 출력\n",
        "print(shuffle_X[:3])\n",
        "print(shuffle_y[:3])"
      ]
    },
    {
      "cell_type": "markdown",
      "metadata": {
        "id": "PqnPSJi7JvSZ"
      },
      "source": [
        "### Split train & test (3:1 의 비율)"
      ]
    },
    {
      "cell_type": "code",
      "execution_count": null,
      "metadata": {
        "id": "BVM7FzTGJvSZ"
      },
      "outputs": [],
      "source": [
        "# 3:1 의 비율로 train test 를 나눔\n",
        "# N값의 0.75를 n에 저장\n",
        "n = int(N * (3/4))\n",
        "\n",
        "# train data\n",
        "# shuffle_X,y를 n열까지만큼 X_train, y_train에 저장\n",
        "X_train = shuffle_X[:n]\n",
        "y_train = shuffle_y[:n]"
      ]
    },
    {
      "cell_type": "code",
      "execution_count": null,
      "metadata": {
        "id": "5FtflxAnJvSZ"
      },
      "outputs": [],
      "source": [
        "# test data\n",
        "# shuffle을 n열부터 끝까지 X_test, y_test에 저장\n",
        "X_test = shuffle_X[n:]\n",
        "y_test = shuffle_y[n:]"
      ]
    },
    {
      "cell_type": "code",
      "execution_count": null,
      "metadata": {
        "colab": {
          "base_uri": "https://localhost:8080/",
          "height": 545
        },
        "id": "6ID33pOLJvSZ",
        "outputId": "c773d8f0-098a-4619-c4b6-30b5dde9ea48"
      },
      "outputs": [
        {
          "output_type": "display_data",
          "data": {
            "text/plain": [
              "<Figure size 432x288 with 1 Axes>"
            ],
            "image/png": "[encoded data removed]"
          },
          "metadata": {
            "needs_background": "light"
          }
        },
        {
          "output_type": "display_data",
          "data": {
            "text/plain": [
              "<Figure size 432x288 with 1 Axes>"
            ],
            "image/png": "[encoded data removed]"
          },
          "metadata": {
            "needs_background": "light"
          }
        }
      ],
      "source": [
        "# plot\n",
        "# X_train, y_train의 산점도 그리기 , 점 이름은 train\n",
        "# 범례 표현하기\n",
        "# 제목은 'sine wave train data'\n",
        "plt.scatter(X_train, y_train, label = 'train')\n",
        "plt.legend()\n",
        "plt.title('sine wave train data')\n",
        "plt.show()\n",
        "\n",
        "# X_test, y_test의 산점도 그리기, 점 이름은 test\n",
        "# 범례 표현하기\n",
        "# 제목은 'sine wave test data'\n",
        "plt.scatter(X_test, y_test,label = 'test')\n",
        "plt.legend()\n",
        "plt.title('sine wave test data')\n",
        "plt.show()"
      ]
    },
    {
      "cell_type": "markdown",
      "metadata": {
        "id": "1LJ04wCSJvSZ"
      },
      "source": [
        "### Perform Linear Regression\n",
        "- compute W using sklearn library"
      ]
    },
    {
      "cell_type": "code",
      "execution_count": null,
      "metadata": {
        "scrolled": true,
        "colab": {
          "base_uri": "https://localhost:8080/"
        },
        "id": "qtl8l7MRJvSZ",
        "outputId": "c2488653-c858-4cf9-d4b7-bbb3c4dc0d89"
      },
      "outputs": [
        {
          "output_type": "stream",
          "name": "stdout",
          "text": [
            "w0:  [1.02083628]\n",
            "w1:  [[-0.27359283]]\n"
          ]
        }
      ],
      "source": [
        "# sklearn.linear_model에서 linearregression 불러오기\n",
        "from sklearn.linear_model import LinearRegression\n",
        "\n",
        "# reg변수에 선형회귀함수 넣어주기\n",
        "# X_train, y_train 학습시키기\n",
        "reg = LinearRegression()\n",
        "reg.fit(X_train, y_train)\n",
        "\n",
        "# w0 (상수값) 출력\n",
        "# w1 (회귀계수) 출력\n",
        "print('w0: ', reg.intercept_)\n",
        "print('w1: ', reg.coef_)"
      ]
    },
    {
      "cell_type": "markdown",
      "metadata": {
        "id": "gQliJDZLJvSZ"
      },
      "source": [
        "### X data 을 이용해서 Prediction 을 하기 위해서는 .predict 를 이용"
      ]
    },
    {
      "cell_type": "code",
      "execution_count": null,
      "metadata": {
        "id": "hq_DghECJvSa"
      },
      "outputs": [],
      "source": [
        "# Pred 변수에 X_train 예측한 값들을 저장\n",
        "Pred = reg.predict(X_train)"
      ]
    },
    {
      "cell_type": "code",
      "execution_count": null,
      "metadata": {
        "colab": {
          "base_uri": "https://localhost:8080/",
          "height": 281
        },
        "id": "WAhoAhukJvSa",
        "outputId": "e40c16bf-90cd-45a8-cdaa-3588e81ec10d"
      },
      "outputs": [
        {
          "output_type": "display_data",
          "data": {
            "text/plain": [
              "<Figure size 432x288 with 1 Axes>"
            ],
            "image/png": "[encoded data removed]"
          },
          "metadata": {
            "needs_background": "light"
          }
        }
      ],
      "source": [
        "# 그래프 그릴자리 확보\n",
        "# X_train과 Pred의 산점도 그리기, 점 제목은 pred\n",
        "# X_train과 y_train의 산점도, 점 제목은 , target\n",
        "# 범례 그리기\n",
        "# 제목은 train data\n",
        "\n",
        "plt.figure()\n",
        "plt.scatter(X_train, Pred, label = 'pred')\n",
        "plt.scatter(X_train, y_train, label = 'target')\n",
        "plt.legend()\n",
        "plt.title('train data')\n",
        "plt.show()"
      ]
    },
    {
      "cell_type": "code",
      "execution_count": null,
      "metadata": {
        "scrolled": false,
        "id": "uoKlMdMFJvSa",
        "outputId": "86c8203d-7a3a-4b8a-d84a-eaa57b303318",
        "colab": {
          "base_uri": "https://localhost:8080/",
          "height": 299
        }
      },
      "outputs": [
        {
          "output_type": "execute_result",
          "data": {
            "text/plain": [
              "Text(0.5, 1.0, 'test data')"
            ]
          },
          "metadata": {},
          "execution_count": 62
        },
        {
          "output_type": "display_data",
          "data": {
            "text/plain": [
              "<Figure size 432x288 with 1 Axes>"
            ],
            "image/png": "[encoded data removed]"
          },
          "metadata": {
            "needs_background": "light"
          }
        }
      ],
      "source": [
        "# 그래프 그릴자리 확보\n",
        "# X_test와 X_test 예측한 값의 산점도 그리기, 점 제목은 pred\n",
        "# X_test와 y_test의 산점도, 점 제목은 , target\n",
        "# 범례 그리기\n",
        "# 제목은 test data\n",
        "\n",
        "plt.figure()\n",
        "plt.scatter(X_test, reg.predict(X_test), label = 'pred')\n",
        "plt.scatter(X_test, y_test, label = 'target')\n",
        "plt.legend()\n",
        "plt.title('test data')"
      ]
    },
    {
      "cell_type": "markdown",
      "metadata": {
        "id": "kqlBq_fDJvSa"
      },
      "source": [
        "## Practice\n",
        " - Another Dataset\n",
        " - 임의의 function 을 지정한 후 linear regression 을 수행\n",
        " \n",
        "$ y = 2x + 5 $"
      ]
    },
    {
      "cell_type": "code",
      "execution_count": null,
      "metadata": {
        "id": "8vP5hPrKJvSa"
      },
      "outputs": [],
      "source": [
        "# X값을 0~1사이 임의의 수를 100 by 1 만큼 뽑고 3을 곱한 것으로 설정\n",
        "# y는 2x + 5 로 설정\n",
        "X = 3*np.random.rand(100,1)\n",
        "y = 2*X + 5\n",
        "\n",
        "# add_noise\n",
        "# y_noise에 y값에 0~1사이 임의의 수를 100 by 1만큼 뽑고 더한 것을 저장\n",
        "y_noise = y + np.random.rand(100, 1) # noise data 를 가진 y 값"
      ]
    },
    {
      "cell_type": "code",
      "source": [
        "# X와 y_noise의 산점도 그리기\n",
        "# 제목은 dataset plot으로 설정\n",
        "plt.scatter(X, y_noise)\n",
        "plt.title('dataset plot')\n",
        "plt.show()"
      ],
      "metadata": {
        "colab": {
          "base_uri": "https://localhost:8080/",
          "height": 281
        },
        "id": "kAiz7h31af-D",
        "outputId": "ac96e3e8-93d8-4edd-b26d-a0b2772b8662"
      },
      "execution_count": null,
      "outputs": [
        {
          "output_type": "display_data",
          "data": {
            "text/plain": [
              "<Figure size 432x288 with 1 Axes>"
            ],
            "image/png": "[encoded data removed]"
          },
          "metadata": {
            "needs_background": "light"
          }
        }
      ]
    },
    {
      "cell_type": "markdown",
      "metadata": {
        "id": "GhlQkLuXJvSa"
      },
      "source": [
        "#### 아까와 같은 방식으로 풀어보자"
      ]
    },
    {
      "cell_type": "code",
      "execution_count": null,
      "metadata": {
        "colab": {
          "base_uri": "https://localhost:8080/"
        },
        "id": "m34LDWulJvSa",
        "outputId": "9940b9ac-07f1-43c8-ee21-c6c2a3d3c02a"
      },
      "outputs": [
        {
          "output_type": "stream",
          "name": "stdout",
          "text": [
            "w0:  [5.37595836]\n",
            "w1:  [[2.04665497]]\n"
          ]
        }
      ],
      "source": [
        "#reg에 선형회귀 함수 저장\n",
        "# X_train, y_train 학습시키기\n",
        "# 상수, 회귀계수 출력\n",
        "\n",
        "reg = LinearRegression()\n",
        "reg.fit(X, y_noise)\n",
        "\n",
        "print('w0: ', reg.intercept_)\n",
        "print('w1: ', reg.coef_)"
      ]
    },
    {
      "cell_type": "markdown",
      "metadata": {
        "id": "6MO8YTrKJvSa"
      },
      "source": [
        "$ {y = 2.027286x + 5.46443632} $\n",
        "\n",
        "$ {y = 2x + 5} $"
      ]
    },
    {
      "cell_type": "code",
      "execution_count": null,
      "metadata": {
        "scrolled": true,
        "colab": {
          "base_uri": "https://localhost:8080/",
          "height": 281
        },
        "id": "6eWPyz3UJvSa",
        "outputId": "be08f0ee-0e6a-4387-a7ed-864f5236b601"
      },
      "outputs": [
        {
          "output_type": "display_data",
          "data": {
            "text/plain": [
              "<Figure size 432x288 with 1 Axes>"
            ],
            "image/png": "[encoded data removed]"
          },
          "metadata": {
            "needs_background": "light"
          }
        }
      ],
      "source": [
        "# 그래프 그릴 공간 확ㅂ\n",
        "# X, y_noise의 산점도 그리기, 점 이름은 target\n",
        "# X와 X 예측값 산점도 그리기, 점 이름은 pred\n",
        "# 범례 그리기\n",
        "# 제목은 train data\n",
        "\n",
        "plt.figure()\n",
        "plt.scatter(X, y_noise, label = 'target')\n",
        "plt.scatter(X,reg.predict(X), label = 'pred')\n",
        "plt.legend()\n",
        "plt.title('train data')\n",
        "plt.show()"
      ]
    },
    {
      "cell_type": "markdown",
      "metadata": {
        "id": "OZ2X0a1YJvSa"
      },
      "source": [
        "***"
      ]
    },
    {
      "cell_type": "markdown",
      "metadata": {
        "id": "PWJkzWJYJvSa"
      },
      "source": [
        "## Polynomial Regression"
      ]
    },
    {
      "cell_type": "markdown",
      "metadata": {
        "id": "ArXR27LyJvSa"
      },
      "source": [
        "#### Anonther Dataset\n",
        "\n",
        "$ y = x^2 + 3x + 5 $"
      ]
    },
    {
      "cell_type": "code",
      "execution_count": null,
      "metadata": {
        "id": "g8IaAxdhJvSa"
      },
      "outputs": [],
      "source": [
        "# seed 값을 5로 고정\n",
        "np.random.rand(5)\n",
        "\n",
        "\n",
        "N = 100\n",
        "# 기존 x 범위는 0~6 사이였으나 -3 이 있으므로 -3~3 이 범위로 바뀌게 된다.\n",
        "# X 값을 0~1 사이 임의의수를 100 by 1만큼 뽑고 6을 곱한뒤 3을 빼준다\n",
        "# y 값을 x^2 + 3x + 5 로 설정\n",
        "X = 6*np.random.rand(N,1) - 3\n",
        "y = X ** 2 + 3*X + 5"
      ]
    },
    {
      "cell_type": "markdown",
      "metadata": {
        "id": "WT50NwK_JvSb"
      },
      "source": [
        "noise 추가"
      ]
    },
    {
      "cell_type": "code",
      "execution_count": null,
      "metadata": {
        "id": "nJbbMo2YJvSb"
      },
      "outputs": [],
      "source": [
        "#  0~1사이 임의의 수 100 by 1만큼 뽑은 것을 3배 한뒤 y 값에 더하고 이를 y_noise 변수에 저장\n",
        "y_noise = y + 3*np.random.rand(N,1)"
      ]
    },
    {
      "cell_type": "code",
      "execution_count": null,
      "metadata": {
        "scrolled": true,
        "colab": {
          "base_uri": "https://localhost:8080/",
          "height": 281
        },
        "id": "uUSQ6pI8JvSb",
        "outputId": "1303c521-1730-4b78-8e13-240687aeb73f"
      },
      "outputs": [
        {
          "output_type": "display_data",
          "data": {
            "text/plain": [
              "<Figure size 432x288 with 1 Axes>"
            ],
            "image/png": "[encoded data removed]"
          },
          "metadata": {
            "needs_background": "light"
          }
        }
      ],
      "source": [
        "# X와 y_noise에 산점도 그리기\n",
        "# 제목은 dataset set\n",
        "\n",
        "plt.scatter(X, y_noise)\n",
        "plt.title('dataset set')\n",
        "plt.show()"
      ]
    },
    {
      "cell_type": "code",
      "execution_count": null,
      "metadata": {
        "colab": {
          "base_uri": "https://localhost:8080/"
        },
        "id": "cr8ePW1oJvSb",
        "outputId": "d62c1e1b-307f-4313-a4e1-9ccd2a92cc03"
      },
      "outputs": [
        {
          "output_type": "stream",
          "name": "stdout",
          "text": [
            "w0:  [9.61999866]\n",
            "w1:  [[2.96449714]]\n"
          ]
        }
      ],
      "source": [
        "# 회귀분석을 할 수 있는 함수 불러오기\n",
        "from sklearn.linear_model import LinearRegression\n",
        "\n",
        "reg = LinearRegression()\n",
        "reg.fit(X,y_noise)\n",
        "\n",
        "print('w0: ', reg.intercept_)\n",
        "print('w1: ',reg.coef_)"
      ]
    },
    {
      "cell_type": "code",
      "execution_count": null,
      "metadata": {
        "scrolled": false,
        "colab": {
          "base_uri": "https://localhost:8080/",
          "height": 281
        },
        "id": "ZneRnG_uJvSb",
        "outputId": "1f1e9bcf-abd2-44a2-cd00-dfcb9aee8850"
      },
      "outputs": [
        {
          "output_type": "display_data",
          "data": {
            "text/plain": [
              "<Figure size 432x288 with 1 Axes>"
            ],
            "image/png": "[encoded data removed]"
          },
          "metadata": {
            "needs_background": "light"
          }
        }
      ],
      "source": [
        "# 그래프 그릴 공간 만들기\n",
        "# X, y_noise의 산점도 그리기, 점 이름은 target\n",
        "# X, X 예측값의 산점도 그리기, 점 이름은 pred\n",
        "# 범례 설정\n",
        "# 제목 test data\n",
        "\n",
        "plt.figure()\n",
        "plt.scatter(X,y_noise, label = 'target')\n",
        "plt.scatter(X,reg.predict(X), label = 'pred')\n",
        "plt.legend()\n",
        "plt.title('test data')\n",
        "plt.show()"
      ]
    },
    {
      "cell_type": "markdown",
      "metadata": {
        "id": "mpjvXm3QJvSb"
      },
      "source": [
        " - 위의 예시에서 보듯, Sin Function 그래프를 1차원 직선으로 나타내기엔 무리가 있음\n",
        " - X 의 feature 를 더 추가해주어서 좀 더 정확한 Linear Regression 을 수행"
      ]
    },
    {
      "cell_type": "markdown",
      "metadata": {
        "id": "GeLAGcT8JvSb"
      },
      "source": [
        "### 좀 더 자세히 살펴보자"
      ]
    },
    {
      "cell_type": "markdown",
      "metadata": {
        "id": "4TxB5yoIJvSb"
      },
      "source": [
        "위의 예시에서 풀어왔던 Linear Regression 의 경우\n",
        "\n",
        "$ y_{1} = w_{1}x_{1} + w_{0} $\n",
        "\n",
        "(여기서 $w_{1}$ 은 reg.coef_ 이고 $w_{0}$ 은 reg.intercept_ 로 구했음) <br>\n",
        "와 같은 간단한 직선 방정식의 형태를 가정하고 풀었던 과정이었다.\n",
        "***\n",
        "이것은 우리가 가지고 있는 X 의 feature 가 하나 밖에 있지 않았기 때문이다.<br>\n",
        "\n",
        "하지만 X 의 feature 를 제곱, 세제곱의 형태로 임의로 늘려준다면 방정식은 1차원의 직선이 아닌, 아래와 같이 고차원의 식으로 변할 수 있다.\n",
        "\n",
        "$ y_{1} = w_{n}x_{1}^n + w_{n-1}x_{1}^{n-1} + ... + w_{2}x_{1}^2 + w_{1}x_{1}^1 + w_{0} $\n",
        "\n",
        "즉, 기존의 X 를 제곱, 세제곱의 형태를 만들어서 feature 를 추가해준다면, 좀 더 정확한 Model 을 얻게 될 것이다."
      ]
    },
    {
      "cell_type": "markdown",
      "metadata": {
        "id": "_IDJuFZ-JvSb"
      },
      "source": [
        "****\n",
        "#### Library 를 이용해서 feature 를 추가해보자."
      ]
    },
    {
      "cell_type": "markdown",
      "metadata": {
        "id": "P4nQfrfRJvSb"
      },
      "source": [
        "Feature 를 추가 할 때는 PolynomialFeatures 를 사용<br>\n",
        "제곱, 세제곱 등의 계산이 가능"
      ]
    },
    {
      "cell_type": "code",
      "execution_count": null,
      "metadata": {
        "id": "_QQ2gXukJvSb"
      },
      "outputs": [],
      "source": [
        "# feature 추가할 수 있는 함수 불러오기\n",
        "from sklearn.preprocessing import PolynomialFeatures"
      ]
    },
    {
      "cell_type": "code",
      "execution_count": null,
      "metadata": {
        "id": "5TIq37PvJvSb"
      },
      "outputs": [],
      "source": [
        "# transform from (x1, x2) to (1, x1, x2, x1^2, x1*x2, x2^2) ## default\n",
        "# transform from (x1, x2) to (x1, x2, x1^2, x1*x2, x2^2) ## include_bias = False\n",
        "\n",
        "# polynomial 변수에 feature를 2개로 추가하고 inclued_bias를 False로 설정해서 저장\n",
        "# new_feature 변수에 형태변환한 X를 학습시키기 \n",
        "polynomial = PolynomialFeatures(degree = 2, include_bias = False)\n",
        "new_feature = polynomial.fit_transform(X)"
      ]
    },
    {
      "cell_type": "code",
      "source": [
        "# new_feature 확인\n",
        "new_feature"
      ],
      "metadata": {
        "colab": {
          "base_uri": "https://localhost:8080/"
        },
        "id": "sO5NFmPdfFYF",
        "outputId": "47c9fa25-92f8-4ed3-8ba3-2c6817bc65e1"
      },
      "execution_count": null,
      "outputs": [
        {
          "output_type": "execute_result",
          "data": {
            "text/plain": [
              "array([[-9.10008034e-01,  8.28114622e-01],\n",
              "       [ 5.47333868e-01,  2.99574363e-01],\n",
              "       [ 1.65007878e+00,  2.72275998e+00],\n",
              "       [ 7.48526803e-01,  5.60292375e-01],\n",
              "       [-2.04191440e+00,  4.16941442e+00],\n",
              "       [ 2.36257592e+00,  5.58176497e+00],\n",
              "       [ 1.38354760e+00,  1.91420395e+00],\n",
              "       [-1.33918844e-02,  1.79342568e-04],\n",
              "       [ 8.61841316e-01,  7.42770455e-01],\n",
              "       [ 5.68505658e-02,  3.23198684e-03],\n",
              "       [-1.99075105e+00,  3.96308975e+00],\n",
              "       [ 8.48788635e-01,  7.20442147e-01],\n",
              "       [ 2.92900658e+00,  8.57907953e+00],\n",
              "       [ 1.62197618e+00,  2.63080672e+00],\n",
              "       [-1.91111275e+00,  3.65235193e+00],\n",
              "       [-2.28138588e+00,  5.20472151e+00],\n",
              "       [ 2.58205106e+00,  6.66698767e+00],\n",
              "       [ 2.46058460e+00,  6.05447656e+00],\n",
              "       [ 1.49510796e+00,  2.23534781e+00],\n",
              "       [ 1.56318924e+00,  2.44356061e+00],\n",
              "       [-2.14274521e+00,  4.59135705e+00],\n",
              "       [ 1.87166515e+00,  3.50313043e+00],\n",
              "       [-1.84632423e+00,  3.40891315e+00],\n",
              "       [-2.07152934e+00,  4.29123382e+00],\n",
              "       [-5.57526261e-01,  3.10835532e-01],\n",
              "       [-2.99770263e+00,  8.98622108e+00],\n",
              "       [ 2.07310690e+00,  4.29777221e+00],\n",
              "       [-2.03320528e+00,  4.13392371e+00],\n",
              "       [ 1.43550441e+00,  2.06067291e+00],\n",
              "       [ 4.97464896e-01,  2.47471322e-01],\n",
              "       [ 1.62156002e+00,  2.62945689e+00],\n",
              "       [ 5.99959000e-01,  3.59950802e-01],\n",
              "       [ 2.76880492e+00,  7.66628066e+00],\n",
              "       [-7.21329663e-01,  5.20316483e-01],\n",
              "       [-1.79378995e-02,  3.21768240e-04],\n",
              "       [-9.69968106e-01,  9.40838127e-01],\n",
              "       [ 1.45650445e+00,  2.12140521e+00],\n",
              "       [-1.19702478e+00,  1.43286833e+00],\n",
              "       [ 1.79271765e+00,  3.21383656e+00],\n",
              "       [-2.48430132e+00,  6.17175307e+00],\n",
              "       [-1.58601817e+00,  2.51545365e+00],\n",
              "       [-3.70986644e-01,  1.37631090e-01],\n",
              "       [-2.24372488e+00,  5.03430134e+00],\n",
              "       [-1.78180812e+00,  3.17484016e+00],\n",
              "       [ 2.04925645e+00,  4.19945200e+00],\n",
              "       [-7.65405271e-01,  5.85845228e-01],\n",
              "       [-1.68790962e+00,  2.84903890e+00],\n",
              "       [ 2.07679693e+00,  4.31308551e+00],\n",
              "       [ 4.52247990e-01,  2.04528245e-01],\n",
              "       [ 8.02298864e-01,  6.43683467e-01],\n",
              "       [ 2.33357126e+00,  5.44555484e+00],\n",
              "       [ 1.28375435e+00,  1.64802524e+00],\n",
              "       [-1.40932399e+00,  1.98619411e+00],\n",
              "       [-2.94175015e+00,  8.65389395e+00],\n",
              "       [ 2.96780757e-01,  8.80788178e-02],\n",
              "       [ 1.24515735e+00,  1.55041683e+00],\n",
              "       [ 1.83416766e+00,  3.36417100e+00],\n",
              "       [-1.85606199e+00,  3.44496613e+00],\n",
              "       [ 8.05285656e-01,  6.48484988e-01],\n",
              "       [ 2.63131760e+00,  6.92383234e+00],\n",
              "       [-1.45088169e+00,  2.10505769e+00],\n",
              "       [-1.24511724e+00,  1.55031695e+00],\n",
              "       [-4.46135928e-01,  1.99037266e-01],\n",
              "       [ 4.27071610e-01,  1.82390160e-01],\n",
              "       [ 2.94033332e+00,  8.64556003e+00],\n",
              "       [ 5.29197676e-01,  2.80050181e-01],\n",
              "       [ 2.32739638e+00,  5.41677392e+00],\n",
              "       [ 9.37267674e-01,  8.78470693e-01],\n",
              "       [-1.63326755e-01,  2.66756290e-02],\n",
              "       [-1.16670882e+00,  1.36120947e+00],\n",
              "       [-8.98922531e-01,  8.08061717e-01],\n",
              "       [ 1.66280575e+00,  2.76492297e+00],\n",
              "       [-1.93494572e+00,  3.74401492e+00],\n",
              "       [-2.17238785e+00,  4.71926897e+00],\n",
              "       [-1.72173021e+00,  2.96435493e+00],\n",
              "       [ 1.01348064e+00,  1.02714301e+00],\n",
              "       [-7.71570318e-01,  5.95320755e-01],\n",
              "       [-1.76098393e+00,  3.10106440e+00],\n",
              "       [-1.01577358e+00,  1.03179597e+00],\n",
              "       [-2.51022263e+00,  6.30121763e+00],\n",
              "       [-3.80786679e-01,  1.44998495e-01],\n",
              "       [ 1.86729590e+00,  3.48679396e+00],\n",
              "       [-3.25245233e-01,  1.05784461e-01],\n",
              "       [-3.16139076e-01,  9.99439154e-02],\n",
              "       [-2.83482922e+00,  8.03625670e+00],\n",
              "       [-1.32613397e+00,  1.75863130e+00],\n",
              "       [-2.54897700e+00,  6.49728375e+00],\n",
              "       [-2.71356974e+00,  7.36346072e+00],\n",
              "       [ 2.18151348e+00,  4.75900106e+00],\n",
              "       [ 1.28590554e+00,  1.65355306e+00],\n",
              "       [ 1.98262620e+00,  3.93080666e+00],\n",
              "       [-2.20256522e+00,  4.85129356e+00],\n",
              "       [-8.08281243e-01,  6.53318567e-01],\n",
              "       [ 2.47930525e+00,  6.14695454e+00],\n",
              "       [-3.99672654e-01,  1.59738230e-01],\n",
              "       [ 2.55391088e+00,  6.52246078e+00],\n",
              "       [ 2.76820846e+00,  7.66297806e+00],\n",
              "       [-2.96035135e+00,  8.76368013e+00],\n",
              "       [-4.02416487e-01,  1.61939029e-01],\n",
              "       [ 4.98675773e-01,  2.48677527e-01]])"
            ]
          },
          "metadata": {},
          "execution_count": 105
        }
      ]
    },
    {
      "cell_type": "code",
      "execution_count": null,
      "metadata": {
        "colab": {
          "base_uri": "https://localhost:8080/"
        },
        "id": "9Spn5kGmJvSb",
        "outputId": "77b6a2f3-22e6-4f35-bfff-30e8655349e0"
      },
      "outputs": [
        {
          "output_type": "stream",
          "name": "stdout",
          "text": [
            "기존의 x[0]: [-0.91000803]\n",
            "Feature가 추가된 x[0]: [-0.91000803  0.82811462]\n"
          ]
        }
      ],
      "source": [
        "# 기존 x[0], feature가 추가된 x[0] 출력\n",
        "print('기존의 x[0]:',X[0])\n",
        "print('Feature가 추가된 x[0]:',new_feature[0])"
      ]
    },
    {
      "cell_type": "code",
      "execution_count": null,
      "metadata": {
        "colab": {
          "base_uri": "https://localhost:8080/"
        },
        "id": "K2giswkoJvSb",
        "outputId": "c8b4eef8-f538-4b1e-ebc1-bc61a826a761"
      },
      "outputs": [
        {
          "output_type": "stream",
          "name": "stdout",
          "text": [
            "2.782360677598541\n"
          ]
        }
      ],
      "source": [
        "print(-1.66804097*-1.66804097)"
      ]
    },
    {
      "cell_type": "code",
      "source": [
        "# new_feature 모양 확인하기\n",
        "# new_feature 5열까지 확인\n",
        "\n",
        "print(new_feature.shape)\n",
        "print(new_feature[:5])"
      ],
      "metadata": {
        "colab": {
          "base_uri": "https://localhost:8080/"
        },
        "id": "XCdYrkTKUvKu",
        "outputId": "4d84257b-015e-492c-b061-245ee56e9695"
      },
      "execution_count": null,
      "outputs": [
        {
          "output_type": "stream",
          "name": "stdout",
          "text": [
            "(100, 2)\n",
            "[[-0.91000803  0.82811462]\n",
            " [ 0.54733387  0.29957436]\n",
            " [ 1.65007878  2.72275998]\n",
            " [ 0.7485268   0.56029237]\n",
            " [-2.0419144   4.16941442]]\n"
          ]
        }
      ]
    },
    {
      "cell_type": "markdown",
      "metadata": {
        "id": "dYEywGINJvSb"
      },
      "source": [
        "##### Feature 를 추가한 상태에서 LinearRegression 을 다시 사용"
      ]
    },
    {
      "cell_type": "code",
      "execution_count": null,
      "metadata": {
        "colab": {
          "base_uri": "https://localhost:8080/"
        },
        "id": "MDFeOw3kJvSb",
        "outputId": "687836a9-faa3-497b-95e2-01b776177c90"
      },
      "outputs": [
        {
          "output_type": "stream",
          "name": "stdout",
          "text": [
            "w0: [6.62414592]\n",
            "w1: [[2.97325524 1.00534064]]\n"
          ]
        }
      ],
      "source": [
        "# 회귀분석 할 수 있는 함수 불러오기\n",
        "from sklearn.linear_model import LinearRegression\n",
        "\n",
        "# reg에 회귀분석 함수 저장\n",
        "# new_feature와 y_noise 학습\n",
        "reg = LinearRegression()\n",
        "reg.fit(new_feature, y_noise)\n",
        "\n",
        "# y = w2x^2 + w1x + w0\n",
        "# 상수, 회귀계수 출력\n",
        "print('w0:',reg.intercept_)\n",
        "print('w1:',reg.coef_)"
      ]
    },
    {
      "cell_type": "markdown",
      "metadata": {
        "id": "ip-IfacHJvSb"
      },
      "source": [
        "$ {y = x^2 + 3x + 5} $\n",
        "\n",
        "$ {y = 0.92x^2 + 3.02x + 6.82} $"
      ]
    },
    {
      "cell_type": "code",
      "execution_count": null,
      "metadata": {
        "scrolled": true,
        "colab": {
          "base_uri": "https://localhost:8080/",
          "height": 281
        },
        "id": "u33JlGWoJvSc",
        "outputId": "92f6d4cf-75da-4bda-efdc-1845ada87bcf"
      },
      "outputs": [
        {
          "output_type": "display_data",
          "data": {
            "text/plain": [
              "<Figure size 432x288 with 1 Axes>"
            ],
            "image/png": "[encoded data removed]"
          },
          "metadata": {
            "needs_background": "light"
          }
        }
      ],
      "source": [
        "# 그래프 그릴 공간 만들기\n",
        "# X, y_noise의 산점도 그리기, 점이름 = target\n",
        "# X, new_feature 예측값 산점도 그리기, 점이름 = pred\n",
        "# 범례\n",
        "# 제목 test data\n",
        "\n",
        "plt.figure()\n",
        "plt.scatter(X, y_noise, label = 'target')\n",
        "plt.scatter(X, reg.predict(new_feature), label = 'pred')\n",
        "plt.legend()\n",
        "plt.title('test data')\n",
        "plt.show()"
      ]
    },
    {
      "cell_type": "markdown",
      "metadata": {
        "id": "FmXJ3litJvSc"
      },
      "source": [
        "# Practice1"
      ]
    },
    {
      "cell_type": "markdown",
      "metadata": {
        "id": "dH4WWvCKJvSc"
      },
      "source": [
        "## Polynomial Regression"
      ]
    },
    {
      "cell_type": "markdown",
      "metadata": {
        "id": "72cGj5nhJvSc"
      },
      "source": [
        "x 의 범위는 -2~2 \n",
        "\n",
        "$ {y = 3x^3 + 2x^2 + 7x + 5} $"
      ]
    },
    {
      "cell_type": "code",
      "execution_count": null,
      "metadata": {
        "id": "OnspTQtmJvSc"
      },
      "outputs": [],
      "source": [
        "np.random.seed(10)\n",
        "\n",
        "N = 100\n",
        "X = 4 * np.random.rand(N,1)-2 # -2~2 로 범위를 만들기 위해 -2 를 끝에 붙임\n",
        "y = 3*X**3 + 2*X**2 + 7*X + 5\n",
        "\n",
        "y_noise = y + 10*np.random.rand(N, 1)"
      ]
    },
    {
      "cell_type": "code",
      "execution_count": null,
      "metadata": {
        "id": "WzDYnCkmJvSc",
        "outputId": "40508740-da3a-47c0-a8cc-e41a2d05aa60",
        "colab": {
          "base_uri": "https://localhost:8080/",
          "height": 281
        }
      },
      "outputs": [
        {
          "output_type": "display_data",
          "data": {
            "text/plain": [
              "<Figure size 432x288 with 1 Axes>"
            ],
            "image/png": "[encoded data removed]"
          },
          "metadata": {
            "needs_background": "light"
          }
        }
      ],
      "source": [
        "plt.scatter(X, y_noise)\n",
        "plt.title('dataset set')\n",
        "plt.show()"
      ]
    },
    {
      "cell_type": "code",
      "execution_count": null,
      "metadata": {
        "id": "Vdh6EoryJvSc",
        "outputId": "881cb5a9-fd16-4f94-8266-7510ef20617e",
        "colab": {
          "base_uri": "https://localhost:8080/"
        }
      },
      "outputs": [
        {
          "output_type": "stream",
          "name": "stdout",
          "text": [
            "기존의 X[0]: [1.08528257]\n",
            "Feature가 추가된 X[0]: [1.08528257 1.17783826 1.27828734]\n"
          ]
        }
      ],
      "source": [
        "# polynomial 변수에 feature를 3개로 추가하고 inclued_bias를 False로 설정해서 저장\n",
        "# new_feature_three 변수에 형태변환한 X를 학습시키기 \n",
        "polynomial = PolynomialFeatures(degree = 3, include_bias = False)\n",
        "new_feature_three = polynomial.fit_transform(X)\n",
        "\n",
        "# 기존 x[0], feature가 추가된 x[0] 출력\n",
        "print('기존의 X[0]:', X[0])\n",
        "print('Feature가 추가된 X[0]:',new_feature_three[0])"
      ]
    },
    {
      "cell_type": "code",
      "execution_count": null,
      "metadata": {
        "id": "agQUjxAdJvSc",
        "outputId": "d9e04102-2a30-4992-edd4-640c292380e1",
        "colab": {
          "base_uri": "https://localhost:8080/"
        }
      },
      "outputs": [
        {
          "output_type": "stream",
          "name": "stdout",
          "text": [
            "w0: [9.18157997]\n",
            "w1: [[6.35064075 2.3300474  3.20666863]]\n"
          ]
        }
      ],
      "source": [
        "# 회귀분석 할 수 있는 함수 불러오기\n",
        "from sklearn.linear_model import LinearRegression\n",
        "\n",
        "# reg에 회귀분석 함수 저장\n",
        "# new_feature와 y_noise 학습\n",
        "reg = LinearRegression()\n",
        "reg.fit(new_feature_three, y_noise)\n",
        "\n",
        "# 상수, 회귀계수 출력\n",
        "print('w0:',reg.intercept_)\n",
        "print('w1:',reg.coef_)\n"
      ]
    },
    {
      "cell_type": "code",
      "execution_count": null,
      "metadata": {
        "scrolled": true,
        "id": "oQ3Pp7m3JvSc",
        "outputId": "567c17f9-cad2-4826-87c6-85c3a4d02dcc",
        "colab": {
          "base_uri": "https://localhost:8080/",
          "height": 281
        }
      },
      "outputs": [
        {
          "output_type": "display_data",
          "data": {
            "text/plain": [
              "<Figure size 432x288 with 1 Axes>"
            ],
            "image/png": "[encoded data removed]"
          },
          "metadata": {
            "needs_background": "light"
          }
        }
      ],
      "source": [
        "# 그래프 그릴 공간 만들기\n",
        "# X, y_noise의 산점도 그리기, 점이름 = target\n",
        "# X, new_feature_three 예측값 산점도 그리기, 점이름 = pred\n",
        "# 범례\n",
        "# 제목 PolyNomial\n",
        "\n",
        "plt.figure()\n",
        "plt.scatter(X, y_noise, label='target')\n",
        "plt.scatter(X, reg.predict(new_feature_three), label='pred')\n",
        "\n",
        "plt.legend()\n",
        "plt.title('PolyNomial')\n",
        "plt.show()"
      ]
    },
    {
      "cell_type": "markdown",
      "metadata": {
        "id": "JivM67zIJvSc"
      },
      "source": [
        "$ {y = 3x^3 + 2x^2 + 7x + 1} $\n",
        "\n",
        "$ {y = 3.20x^3 + 2.33x^2 + 6.35x + 9.18} $"
      ]
    },
    {
      "cell_type": "markdown",
      "metadata": {
        "id": "QZ7p2ccEJvSc"
      },
      "source": [
        "# Practice 2"
      ]
    },
    {
      "cell_type": "markdown",
      "metadata": {
        "id": "R0wJxc1jJvSc"
      },
      "source": [
        "### 앞서 했던 sin 함수를 1차 그래프가 아닌 다차원 그래프로 정확한 예측을 해보자"
      ]
    },
    {
      "cell_type": "code",
      "execution_count": null,
      "metadata": {
        "id": "J5UvAkueJvSc",
        "colab": {
          "base_uri": "https://localhost:8080/"
        },
        "outputId": "dd21c40e-5266-4f6b-c6cb-0bea9f262f41"
      },
      "outputs": [
        {
          "output_type": "execute_result",
          "data": {
            "text/plain": [
              "array([[0.        ],\n",
              "       [0.06346652],\n",
              "       [0.12693304],\n",
              "       [0.19039955],\n",
              "       [0.25386607]])"
            ]
          },
          "metadata": {},
          "execution_count": 23
        }
      ],
      "source": [
        "N = 100\n",
        "\n",
        "X = np.linspace(0,2*np.pi, N).reshape(-1,1)\n",
        "X[:5]"
      ]
    },
    {
      "cell_type": "code",
      "source": [
        "# plot 그리기\n",
        "\n",
        "y = np.sin(X)\n",
        "#plt.plot(X,y)\n",
        "plt.scatter(X,y)\n",
        "plt.show()\n"
      ],
      "metadata": {
        "colab": {
          "base_uri": "https://localhost:8080/",
          "height": 265
        },
        "id": "-mS10wqEWnaU",
        "outputId": "6e43484d-59de-4ae4-fccf-de2398fdf2a5"
      },
      "execution_count": null,
      "outputs": [
        {
          "output_type": "display_data",
          "data": {
            "text/plain": [
              "<Figure size 432x288 with 1 Axes>"
            ],
            "image/png": "[encoded data removed]"
          },
          "metadata": {
            "needs_background": "light"
          }
        }
      ]
    },
    {
      "cell_type": "code",
      "execution_count": null,
      "metadata": {
        "id": "yEocnBmMJvSc"
      },
      "outputs": [],
      "source": [
        "polynomial = PolynomialFeatures(degree = 3, include_bias = False)\n",
        "sin_new_feature = polynomial.fit_transform(X)"
      ]
    },
    {
      "cell_type": "code",
      "execution_count": null,
      "metadata": {
        "id": "Ct1uGYoMJvSc",
        "outputId": "610c686f-0309-4365-bec6-3a6939e70d64",
        "colab": {
          "base_uri": "https://localhost:8080/"
        }
      },
      "outputs": [
        {
          "output_type": "stream",
          "name": "stdout",
          "text": [
            "기존의 x[0]: [0.06346652]\n",
            "Feature가 추가된 x[0]: [0.06346652 0.004028   0.00025564]\n"
          ]
        }
      ],
      "source": [
        "print(\"기존의 x[0]:\",X[1])\n",
        "print(\"Feature가 추가된 x[0]:\", sin_new_feature[1])"
      ]
    },
    {
      "cell_type": "code",
      "execution_count": null,
      "metadata": {
        "scrolled": true,
        "id": "6j2VYIl-JvSc",
        "outputId": "1d1235a2-e1f8-4f11-c44a-be1ed6722469",
        "colab": {
          "base_uri": "https://localhost:8080/"
        }
      },
      "outputs": [
        {
          "output_type": "execute_result",
          "data": {
            "text/plain": [
              "array([[0.00000000e+00, 0.00000000e+00, 0.00000000e+00],\n",
              "       [6.34665183e-02, 4.02799894e-03, 2.55643068e-04],\n",
              "       [1.26933037e-01, 1.61119958e-02, 2.04514455e-03],\n",
              "       [1.90399555e-01, 3.62519905e-02, 6.90236284e-03],\n",
              "       [2.53866073e-01, 6.44479830e-02, 1.63611564e-02],\n",
              "       [3.17332591e-01, 1.00699973e-01, 3.19553835e-02],\n",
              "       [3.80799110e-01, 1.45007962e-01, 5.52189027e-02],\n",
              "       [4.44265628e-01, 1.97371948e-01, 8.76855724e-02],\n",
              "       [5.07732146e-01, 2.57791932e-01, 1.30889251e-01],\n",
              "       [5.71198664e-01, 3.26267914e-01, 1.86363797e-01],\n",
              "       [6.34665183e-01, 4.02799894e-01, 2.55643068e-01],\n",
              "       [6.98131701e-01, 4.87387872e-01, 3.40260924e-01],\n",
              "       [7.61598219e-01, 5.80031847e-01, 4.41751222e-01],\n",
              "       [8.25064737e-01, 6.80731821e-01, 5.61647821e-01],\n",
              "       [8.88531256e-01, 7.89487792e-01, 7.01484579e-01],\n",
              "       [9.51997774e-01, 9.06299761e-01, 8.62795355e-01],\n",
              "       [1.01546429e+00, 1.03116773e+00, 1.04711401e+00],\n",
              "       [1.07893081e+00, 1.16409169e+00, 1.25597439e+00],\n",
              "       [1.14239733e+00, 1.30507166e+00, 1.49091037e+00],\n",
              "       [1.20586385e+00, 1.45410762e+00, 1.75345580e+00],\n",
              "       [1.26933037e+00, 1.61119958e+00, 2.04514455e+00],\n",
              "       [1.33279688e+00, 1.77634753e+00, 2.36751045e+00],\n",
              "       [1.39626340e+00, 1.94955149e+00, 2.72208739e+00],\n",
              "       [1.45972992e+00, 2.13081144e+00, 3.11040921e+00],\n",
              "       [1.52319644e+00, 2.32012739e+00, 3.53400977e+00],\n",
              "       [1.58666296e+00, 2.51749934e+00, 3.99442294e+00],\n",
              "       [1.65012947e+00, 2.72292728e+00, 4.49318257e+00],\n",
              "       [1.71359599e+00, 2.93641123e+00, 5.03182251e+00],\n",
              "       [1.77706251e+00, 3.15795117e+00, 5.61187663e+00],\n",
              "       [1.84052903e+00, 3.38754711e+00, 6.23487879e+00],\n",
              "       [1.90399555e+00, 3.62519905e+00, 6.90236284e+00],\n",
              "       [1.96746207e+00, 3.87090698e+00, 7.61586265e+00],\n",
              "       [2.03092858e+00, 4.12467091e+00, 8.37691206e+00],\n",
              "       [2.09439510e+00, 4.38649084e+00, 9.18704494e+00],\n",
              "       [2.15786162e+00, 4.65636677e+00, 1.00477952e+01],\n",
              "       [2.22132814e+00, 4.93429870e+00, 1.09606965e+01],\n",
              "       [2.28479466e+00, 5.22028663e+00, 1.19272830e+01],\n",
              "       [2.34826118e+00, 5.51433055e+00, 1.29490883e+01],\n",
              "       [2.41172769e+00, 5.81643047e+00, 1.40276464e+01],\n",
              "       [2.47519421e+00, 6.12658639e+00, 1.51644912e+01],\n",
              "       [2.53866073e+00, 6.44479830e+00, 1.63611564e+01],\n",
              "       [2.60212725e+00, 6.77106622e+00, 1.76191759e+01],\n",
              "       [2.66559377e+00, 7.10539013e+00, 1.89400836e+01],\n",
              "       [2.72906028e+00, 7.44777004e+00, 2.03254134e+01],\n",
              "       [2.79252680e+00, 7.79820595e+00, 2.17766991e+01],\n",
              "       [2.85599332e+00, 8.15669785e+00, 2.32954746e+01],\n",
              "       [2.91945984e+00, 8.52324576e+00, 2.48832737e+01],\n",
              "       [2.98292636e+00, 8.89784966e+00, 2.65416303e+01],\n",
              "       [3.04639288e+00, 9.28050956e+00, 2.82720782e+01],\n",
              "       [3.10985939e+00, 9.67122545e+00, 3.00761513e+01],\n",
              "       [3.17332591e+00, 1.00699973e+01, 3.19553835e+01],\n",
              "       [3.23679243e+00, 1.04768252e+01, 3.39113086e+01],\n",
              "       [3.30025895e+00, 1.08917091e+01, 3.59454605e+01],\n",
              "       [3.36372547e+00, 1.13146490e+01, 3.80593731e+01],\n",
              "       [3.42719199e+00, 1.17456449e+01, 4.02545801e+01],\n",
              "       [3.49065850e+00, 1.21846968e+01, 4.25326155e+01],\n",
              "       [3.55412502e+00, 1.26318047e+01, 4.48950131e+01],\n",
              "       [3.61759154e+00, 1.30869686e+01, 4.73433067e+01],\n",
              "       [3.68105806e+00, 1.35501884e+01, 4.98790303e+01],\n",
              "       [3.74452458e+00, 1.40214643e+01, 5.25037177e+01],\n",
              "       [3.80799110e+00, 1.45007962e+01, 5.52189027e+01],\n",
              "       [3.87145761e+00, 1.49881841e+01, 5.80261193e+01],\n",
              "       [3.93492413e+00, 1.54836279e+01, 6.09269012e+01],\n",
              "       [3.99839065e+00, 1.59871278e+01, 6.39227823e+01],\n",
              "       [4.06185717e+00, 1.64986837e+01, 6.70152965e+01],\n",
              "       [4.12532369e+00, 1.70182955e+01, 7.02059776e+01],\n",
              "       [4.18879020e+00, 1.75459634e+01, 7.34963595e+01],\n",
              "       [4.25225672e+00, 1.80816872e+01, 7.68879761e+01],\n",
              "       [4.31572324e+00, 1.86254671e+01, 8.03823612e+01],\n",
              "       [4.37918976e+00, 1.91773030e+01, 8.39810487e+01],\n",
              "       [4.44265628e+00, 1.97371948e+01, 8.76855724e+01],\n",
              "       [4.50612280e+00, 2.03051427e+01, 9.14974662e+01],\n",
              "       [4.56958931e+00, 2.08811465e+01, 9.54182639e+01],\n",
              "       [4.63305583e+00, 2.14652063e+01, 9.94494995e+01],\n",
              "       [4.69652235e+00, 2.20573222e+01, 1.03592707e+02],\n",
              "       [4.75998887e+00, 2.26574940e+01, 1.07849419e+02],\n",
              "       [4.82345539e+00, 2.32657219e+01, 1.12221172e+02],\n",
              "       [4.88692191e+00, 2.38820057e+01, 1.16709497e+02],\n",
              "       [4.95038842e+00, 2.45063455e+01, 1.21315929e+02],\n",
              "       [5.01385494e+00, 2.51387414e+01, 1.26042003e+02],\n",
              "       [5.07732146e+00, 2.57791932e+01, 1.30889251e+02],\n",
              "       [5.14078798e+00, 2.64277010e+01, 1.35859208e+02],\n",
              "       [5.20425450e+00, 2.70842649e+01, 1.40953407e+02],\n",
              "       [5.26772102e+00, 2.77488847e+01, 1.46173383e+02],\n",
              "       [5.33118753e+00, 2.84215605e+01, 1.51520669e+02],\n",
              "       [5.39465405e+00, 2.91022923e+01, 1.56996799e+02],\n",
              "       [5.45812057e+00, 2.97910802e+01, 1.62603307e+02],\n",
              "       [5.52158709e+00, 3.04879240e+01, 1.68341727e+02],\n",
              "       [5.58505361e+00, 3.11928238e+01, 1.74213593e+02],\n",
              "       [5.64852012e+00, 3.19057796e+01, 1.80220438e+02],\n",
              "       [5.71198664e+00, 3.26267914e+01, 1.86363797e+02],\n",
              "       [5.77545316e+00, 3.33558592e+01, 1.92645203e+02],\n",
              "       [5.83891968e+00, 3.40929830e+01, 1.99066189e+02],\n",
              "       [5.90238620e+00, 3.48381628e+01, 2.05628291e+02],\n",
              "       [5.96585272e+00, 3.55913986e+01, 2.12333042e+02],\n",
              "       [6.02931923e+00, 3.63526904e+01, 2.19181976e+02],\n",
              "       [6.09278575e+00, 3.71220382e+01, 2.26176626e+02],\n",
              "       [6.15625227e+00, 3.78994420e+01, 2.33318526e+02],\n",
              "       [6.21971879e+00, 3.86849018e+01, 2.40609211e+02],\n",
              "       [6.28318531e+00, 3.94784176e+01, 2.48050213e+02]])"
            ]
          },
          "metadata": {},
          "execution_count": 27
        }
      ],
      "source": [
        "sin_new_feature"
      ]
    },
    {
      "cell_type": "markdown",
      "metadata": {
        "id": "k4g-f-KgJvSc"
      },
      "source": [
        "### Shuffle & Split train, test"
      ]
    },
    {
      "cell_type": "code",
      "execution_count": null,
      "metadata": {
        "id": "wfuUdCuOJvSc",
        "outputId": "ec1aacb7-b490-459d-82e6-0f733d4cd01d",
        "colab": {
          "base_uri": "https://localhost:8080/"
        }
      },
      "outputs": [
        {
          "output_type": "stream",
          "name": "stdout",
          "text": [
            "[[1.3962634  1.94955149 2.72208739]\n",
            " [0.19039955 0.03625199 0.00690236]\n",
            " [0.25386607 0.06444798 0.01636116]]\n",
            "[[0.98480775]\n",
            " [0.18925124]\n",
            " [0.25114799]]\n"
          ]
        }
      ],
      "source": [
        "# shuffle data\n",
        "idx = np.random.permutation(N)\n",
        "\n",
        "shuffle_X = sin_new_feature[idx]\n",
        "shuffle_y = y[idx]\n",
        "\n",
        "print(shuffle_X[:3])\n",
        "print(shuffle_y[:3])"
      ]
    },
    {
      "cell_type": "code",
      "execution_count": null,
      "metadata": {
        "id": "aPeZGFb-JvSd"
      },
      "outputs": [],
      "source": [
        "n = int(N * (3/4))\n",
        "\n",
        "# train data\n",
        "X_train = shuffle_X[:n]\n",
        "y_train = shuffle_y[:n]\n",
        "\n",
        "# test data\n",
        "X_test = shuffle_X[n:]\n",
        "y_test = shuffle_y[n:]"
      ]
    },
    {
      "cell_type": "markdown",
      "metadata": {
        "id": "nCzr-UTDJvSd"
      },
      "source": [
        "### Perform Linear Regression"
      ]
    },
    {
      "cell_type": "code",
      "execution_count": null,
      "metadata": {
        "id": "pH3xZ4mWJvSd",
        "outputId": "f835e77f-4a43-4479-8390-8574c88a0de6",
        "colab": {
          "base_uri": "https://localhost:8080/"
        }
      },
      "outputs": [
        {
          "output_type": "stream",
          "name": "stdout",
          "text": [
            "w0:  [-0.21537653]\n",
            "w1:  [[ 1.90841129 -0.87625616  0.09270284]]\n"
          ]
        }
      ],
      "source": [
        "reg = LinearRegression()\n",
        "reg.fit(X_train, y_train)\n",
        "\n",
        "print('w0: ', reg.intercept_)\n",
        "print('w1: ', reg.coef_)"
      ]
    },
    {
      "cell_type": "markdown",
      "metadata": {
        "id": "OflAi07BJvSd"
      },
      "source": [
        "### Plotting"
      ]
    },
    {
      "cell_type": "code",
      "execution_count": null,
      "metadata": {
        "id": "C0F7oOUdJvSd"
      },
      "outputs": [],
      "source": [
        "Pred = reg.predict(X_train)"
      ]
    },
    {
      "cell_type": "code",
      "execution_count": null,
      "metadata": {
        "id": "Bpmpvq9WJvSd",
        "outputId": "6530167a-9d5e-4aeb-fb3d-e583636a5c76",
        "colab": {
          "base_uri": "https://localhost:8080/",
          "height": 299
        }
      },
      "outputs": [
        {
          "output_type": "stream",
          "name": "stderr",
          "text": [
            "WARNING:matplotlib.legend:No handles with labels found to put in legend.\n"
          ]
        },
        {
          "output_type": "display_data",
          "data": {
            "text/plain": [
              "<Figure size 432x288 with 1 Axes>"
            ],
            "image/png": "[encoded data removed]"
          },
          "metadata": {
            "needs_background": "light"
          }
        }
      ],
      "source": [
        "plt.figure()\n",
        "\n",
        "\n",
        "plt.legend()\n",
        "plt.title('train data')\n",
        "plt.show()"
      ]
    },
    {
      "cell_type": "markdown",
      "metadata": {
        "id": "buNpcnCcJvSd"
      },
      "source": [
        "### Test data 로 plot"
      ]
    },
    {
      "cell_type": "code",
      "execution_count": null,
      "metadata": {
        "id": "HuRp1pFdJvSd"
      },
      "outputs": [],
      "source": [
        "test_Pred = reg.predict(X_test)"
      ]
    },
    {
      "cell_type": "code",
      "execution_count": null,
      "metadata": {
        "scrolled": true,
        "id": "0LVD81zvJvSd",
        "outputId": "90e60f2b-31bc-43b5-d340-b19a5d9c64d0"
      },
      "outputs": [
        {
          "data": {
            "image/png": "[encoded data removed]",
            "text/plain": [
              "<Figure size 432x288 with 1 Axes>"
            ]
          },
          "metadata": {
            "needs_background": "light"
          },
          "output_type": "display_data"
        }
      ],
      "source": [
        "plt.figure()\n",
        "\n",
        "plt.legend()\n",
        "plt.title('test data')\n",
        "plt.show()"
      ]
    },
    {
      "cell_type": "markdown",
      "metadata": {
        "id": "17safXqfJvSd"
      },
      "source": [
        "### Train, Test data 로 plot"
      ]
    },
    {
      "cell_type": "code",
      "execution_count": null,
      "metadata": {
        "id": "9N11b_joJvSd"
      },
      "outputs": [],
      "source": [
        "X_all = shuffle_X[:]\n",
        "y_all = shuffle_y[:]\n",
        "\n",
        "all_Pred = reg.predict(X_all)"
      ]
    },
    {
      "cell_type": "code",
      "execution_count": null,
      "metadata": {
        "id": "CiQ-ALMmJvSd",
        "outputId": "59d8fc54-cb95-4323-aec2-5c6805465e88"
      },
      "outputs": [
        {
          "data": {
            "image/png": "[encoded data removed]",
            "text/plain": [
              "<Figure size 432x288 with 1 Axes>"
            ]
          },
          "metadata": {
            "needs_background": "light"
          },
          "output_type": "display_data"
        }
      ],
      "source": [
        "plt.figure()\n",
        "plt.scatter(X_all[:,0], all_Pred, label='pred')\n",
        "plt.scatter(X_all[:,0], y_all, label='target')\n",
        "plt.legend()\n",
        "plt.title('all data')\n",
        "plt.show()"
      ]
    }
  ],
  "metadata": {
    "kernelspec": {
      "display_name": "Python 3 (ipykernel)",
      "language": "python",
      "name": "python3"
    },
    "language_info": {
      "codemirror_mode": {
        "name": "ipython",
        "version": 3
      },
      "file_extension": ".py",
      "mimetype": "text/x-python",
      "name": "python",
      "nbconvert_exporter": "python",
      "pygments_lexer": "ipython3",
      "version": "3.9.7"
    },
    "colab": {
      "provenance": [],
      "collapsed_sections": [
        "R0wJxc1jJvSc",
        "k4g-f-KgJvSc",
        "nCzr-UTDJvSd",
        "OflAi07BJvSd",
        "buNpcnCcJvSd",
        "17safXqfJvSd"
      ]
    }
  },
  "nbformat": 4,
  "nbformat_minor": 0
}